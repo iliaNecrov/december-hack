{
 "cells": [
  {
   "cell_type": "code",
   "execution_count": 1,
   "metadata": {},
   "outputs": [],
   "source": [
    "from intents import IntentClassifier\n",
    "\n",
    "from langchain.vectorstores import Chroma\n",
    "from langchain.embeddings import HuggingFaceEmbeddings"
   ]
  },
  {
   "cell_type": "code",
   "execution_count": 2,
   "metadata": {},
   "outputs": [],
   "source": [
    "embeddings = HuggingFaceEmbeddings(model_name=\"sentence-transformers/xlm-r-100langs-bert-base-nli-stsb-mean-tokens\")\n",
    "vectordb = Chroma(persist_directory='./intents/database_intent/data', embedding_function=embeddings)"
   ]
  },
  {
   "cell_type": "code",
   "execution_count": 3,
   "metadata": {},
   "outputs": [
    {
     "data": {
      "text/plain": [
       "[Document(page_content='ОБРАТНАЯ СВЯЗЬ\\nЕсли у вас есть идеи и пожелания по развитию продукта, пишите на algopack@moex.com', metadata={'source': 'Обратная связь/Обратная связь.txt'}),\n",
       " Document(page_content='**Class**\\t**Metrics**\\t**Des (все метрики считаются за период 5 мин)**\\nreference\\tsecid\\tкод инструмента\\nreference\\tts\\tдата и время\\ntrades\\tpr_open\\tцена открытия\\ntrades\\tpr_high\\tмаксимальная цена за период\\ntrades\\tpr_low\\tминимальная цена за период\\ntrades\\tpr_close\\tпоследняя цена за период\\ntrades\\tpr_vwap\\tсредневзвешенная цена\\ntrades\\tpr_change\\tизменение цены за период, %\\ntrades\\ttrades\\tкол-во сделок\\ntrades\\tvol\\tобъем в лотах\\ntrades\\tval\\tобъем в рублях\\ntrades\\tdisb\\tсоотношение объема покупок и продаж\\ntrades\\tpr_std\\tстандартное отклонение цены\\ntrades\\tpr_vwap_b\\tсредневзвешенная цена покупки\\ntrades\\tpr_vwap_s\\tсредневзвешенная цена продажи\\ntrades\\ttrades_b\\tкол-во сделок на покупку\\ntrades\\ttrades_s\\tкол-во сделок на продажу\\ntrades\\tvol_b\\tобъем покупок в лотах\\ntrades\\tvol_s\\tобъем продаж в лотах\\ntrades\\tval_b\\tобъем покупок в руб\\ntrades\\tval_s\\tобъем продаж в руб\\norders\\tput_orders\\tкол-во поставленных заявок в стакан\\norders\\tcancel_orders\\tкол-во снятых заявок\\norders\\tput_vol\\tобъем завок, поставленных в стакан\\norders\\tput_val\\tобъем завок, поставленных в стакан (руб)\\norders\\tcancel_vol\\tобъем снятых заявок\\norders\\tcancel_val\\tобъем снятых заявок (руб)\\norders\\tput_orders_b\\tкол-во поставленных заявок (покупка)\\norders\\tput_orders_s\\tкол-во поставленных заявок (продажа)\\norders\\tcancel_orders_b\\tкол-во снятых заявок (покупка)\\norders\\tcancel_orders_s\\tкол-во снятых заявок (продажа)\\norders\\tput_vol_b\\tобъем завок поставленных в стакан (покупка)\\norders\\tput_vol_s\\tобъем завок поставленных в стакан (продажа)\\norders\\tcancel_vol_b\\tобъем снятых заявок (покупка)\\norders\\tcancel_vol_s\\tобъем снятых заявок (продажа)\\norders\\tput_val_b\\tобъем завок поставленных в стакан (покупка, руб)\\norders\\tput_val_s\\tобъем завок поставленных в стакан (продажа, руб)\\norders\\tcancel_val_b\\tобъем снятых заявок (покупка, руб)\\norders\\tcancel_val_s\\tобъем снятых заявок (продажа, руб)\\norders\\tcancel_vwap_b\\tСредневзвешенная цена отмененных заявок (покупка)\\norders\\tcancel_vwap_s\\tСредневзвешенная цена отмененных заявок (продажа)\\norders\\tput_vwap_b\\tСредневзвешенная цена заявок (покупка)\\norders\\tput_vwap_s\\tСредневзвешенная цена заявок (продажа)\\norderbook\\tspread_bbo\\tспред между лучшей ценой покупки и продажи\\norderbook\\tspread_lvl10\\tспред между 10ым уровнем цен покупки и продажи\\norderbook\\tspread_1mio\\tспред на 1 млн руб\\norderbook\\tlevels_b\\tкол-во уровней цен в стакане (покупка)\\norderbook\\tlevels_s\\tкол-во уровней цен в стакане (продажа)\\norderbook\\tvol_b\\tсовокупный объем заявок в стакане на всех уровнях (покупка)\\norderbook\\tvol_s\\tсовокупный объем заявок в стакане на всех уровнях (продажа)\\norderbook\\tval_b\\tсовокупный объем заявок в стакане на всех уровнях (покупка), руб\\norderbook\\tval_s\\tсовокупный объем заявок в стакане на всех уровнях (продажа), руб\\norderbook\\timbalance_vol_bbo\\tдисбаланс объема на лучших ценах\\norderbook\\timbalance_val_bbo\\tдисбаланс объема (руб) по лучшим ценам\\norderbook\\timbalance_vol\\tдисбаланс объема на всем стакане (все уровни)\\norderbook\\timbalance_val\\tдисбаланс объема (руб) на всем стакане (все уровни)\\norderbook\\tvwap_b\\tсредневзвешенная цена покупки в стакане\\norderbook\\tvwap_s\\tсредневзвешенная цена продажи в стакане\\norderbook\\tvwap_b_1mio\\tцена покупки актива на 1 млн руб\\norderbook\\tvwap_s_1mio\\tцена продажи актива на 1 млн руб', metadata={'source': 'Данные/Описание набора данных.txt'}),\n",
       " Document(page_content='**TRADESTATS (GET) - Данные на основе потока сделок**\\n1) https://moex.com/iss/datashop/algopack/eq/tradestats - позволяет получить торговую статистику по всем акциям за любую указанную дату\\nArguments\\ndate // Дата, за которую необходимы данные\\nYYYY-MM-DD // Формат даты\\nDefault: today\\nlatest=1 // Выводит только самое последнее обновление по бумаге\\nПример: https://moex.com/iss/datashop/algopack/eq/tradestats.json?date=2023-10-24&latest=1\\n2) https://moex.com/iss/datashop/algopack/eq/tradestats/[ticker] - позволяет получить торговую статистику по одной указанной бумаге за указанный период\\nArguments\\nfrom // Дата, начало интервала\\nYYYY-MM-DD // Формат даты\\ntill // Дата, окончание интервала\\nYYYY-MM-DD // Формат даты\\nlatest=1 // Выводит только самое последнее обновление по бумаге\\nПример: https://moex.com/iss/datashop/algopack/eq/tradestats/sber.json?from=2023-10-01&till=2023-10-08\\n**ORDERSTATS (GET) - Данные на основе потока заявок**\\n1) https://moex.com/iss/datashop/algopack/eq/orderstats - позволяет получить статистику по всем акциям за любую указанную дату\\n2) https://moex.com/iss/datashop/algopack/eq/orderstats/[ticker] - позволяет получить статистику по одной указанной бумаге за указанный период\\nПример: https://moex.com/iss/datashop/algopack/eq/orderstats/sber.json?from=2023-10-01&till=2023-10-08\\nПараметры методов идентичны tradestats\\n**OBSTATS (GET) - позволяет получить данные на основе стакана котировок**\\n1) https://moex.com/iss/datashop/algopack/eq/obstats - позволяет получить статистику по всем акциям за любую указанную дату\\n2) https://moex.com/iss/datashop/algopack/eq/obstats/[ticker] - позволяет получить статистику по одной указанной бумаге за указанный период\\nПример: https://moex.com/iss/datashop/algopack/eq/obstats/sber.json?from=2023-10-01&till=2023-10-08\\nПараметры методов идентичны tradestats', metadata={'source': 'API/Описание API Algopack.txt'}),\n",
       " Document(page_content='ORDER STATS\\n**put_orders, cancel_orders**\\nКоличество поставленных сделок\\n**put_orders_b, put_orders_s**\\nКоличество заявок на покупку/продажу, поставленных в стакан\\n**cancel_orders_b, cancel_orders_s**\\nКоличество снятых заявок на покупку/продажу\\n**put_vol, cancel_vol**\\nОбъем завок, поставленных/снятых в стакан\\n**put_vol_b, put_vol_s**\\nОбъем завок на покупку/продажу, поставленных в стакан\\n**cancel_vol_b, cancel_vol_s**\\nОбъем снятых заявок на покупку/продажу\\n**put_val, cancel_val**\\nОбъем завок, поставленных/снятых в стакан (₽)\\nput_val = put_val_b + put_val_s\\ncancel_val = cancel_val_b + cancel_val_s\\n**put_val_b, put_val_s**\\nОбъем завок на покупку/продажу, поставленных в стакан (₽)\\n**cancel_val_b, cancel_val_s**\\nОбъем снятых заявок на покупку/продажу выраженный в рублях\\n**put_vwap_b, put_vwap_s, cancel_vwap_b, cancel_vwap_s**\\nСредневзвешенная цена выставленных/отмененных заявок на покупку и продажу, соответственно — это средняя цена заявки покупки или продажи, весом которых является объем соответствующих сделок.\\nput_vwap_b = put_val_b / put_vol_b\\nПример:\\nЕсть 2 сделки на покупку: 100 акций по 10 рублей и 200 акций по 20 рублей, тогда:\\nput_vwap_b = (100*10 + 200*20) / (100 + 200) = 16.67 ₽\\n**spread_bbo**\\nЭто разница между лучшей ценой продажи (best ask) и лучшей ценой покупки (best bid) в базисных пунктах. В таком формате спред можно сравнивать по бумагам вне зависимости от цен.\\nМетрика важна для понимания текущего состояния рынка, так как показывает, насколько близки покупатели и продавцы по своим ожиданиям относительно цены. Используется для измерения ликвидности рынка — чем меньше спред, тем выше ликвидность.\\n**spread_lv10**\\nЭто разница между ценами покупки и продажи на десятом уровне. Показывает, насколько сильно цены различаются на глубине стакана заявок в базисных пунктах. В таком формате спред можно сравнивать по бумагам вне зависимости от цен.\\n**spread_1mio**\\nЭто спред на сумму в 1 млн ₽ в базисных пунктах. Эта метрика показывает, какова будет разница в ценах покупки и продажи при сделке на указанную сумму. Это позволяет оценить ликвидность рынка при крупных сделках.\\nПример:\\nЕсли для покупки активов на сумму 1 млн ₽ средневзвешенная цена равна 100 ₽, а для продажи — 102 ₽, тогда:\\nspread_1mio = (102 – 100)/100 = 2 ₽.\\n**levels_b, levels_s**\\nЭто количество уровней цен в стакане для покупки/продажи. Большое количество уровней обычно означает большую ликвидность и глубину рынка. Просто подсчитывается количество уровней цен в стакане для покупки и продажи. Например, если в стакане 10 различных цен для покупки, то levels_b = 10.\\n**vol_b, vol_s**\\nЭто совокупный объем заявок в стакане на всех уровнях для покупки/продажи. Метрика показывает общее количество активов, которые трейдеры хотят купить/продать. Это дает представление о потенциальной активности на рынке.\\nПример:\\nЕсть 3 заявки на покупку объёмами 100, 200 и 300 акций, то\\nVol_b = 100 + 200 + 300 = 600 акций.\\n**imbalance_vol_bbo**\\nЭто дисбаланс объема по лучшим ценам. Метрика показывает разницу между объемом активов, которые трейдеры хотят купить и продать по лучшим ценам. Указывает на отклонение в предложении и спросе.\\nОтрицательное значение свидетельствует о преобладании продавцов\\n**val_b, val_s**\\nЭто совокупный объем заявок в стакане на всех уровнях для покупки/продажи, выраженный в рублях. Эта метрика показывает общую стоимость всех активов, которые трейдеры хотят купить/продать\\nПример:\\nЕсть 2 заявки на покупку: 100 акций по 10 ₽ и 200 акций по 20 ₽, то\\nval_b = 100*10 + 200*20 = 5000 ₽\\n**imbalance_val_bbo**\\nЭто дисбаланс объема в рублях по лучшим ценам. Метрика показывает разницу в стоимости активов, которые трейдеры хотят купить и продать по лучшим ценам.\\nОтрицательное значение свидетельствует о преобладании продавцов\\n**imbalance_vol**\\nЭто разница между совокупными объемами покупки и продажи на всех уровнях стакана (разница между b_vol и s_vol). Позволяет оценить разницу между объемами покупки и продажи на всех уровнях стакана. Может указывать на общий дисбаланс на рынке.\\nОтрицательное значение свидетельствует о преобладании продавцов\\n**imbalance_vol_bbo**\\nЭто дисбаланс объема по лучшим ценам. Метрика показывает разницу между объемом активов, которые трейдеры хотят купить и продать по лучшим ценам. Указывает на отклонение в предложении и спросе.\\nОтрицательное значение свидетельствует о преобладании продавцов\\n**imbalance_val**\\nЭто разница между совокупными объемами покупки и продажи на всех уровнях стакана, выраженная в рублях (разница между b_val и s_val). Позволяет оценить разницу между объемами покупки и продажи в денежном эквиваленте на всех уровнях стакана\\nОтрицательное значение свидетельствует о преобладании продавцов\\n**imbalance_val_bbo**\\nЭто дисбаланс объема в рублях по лучшим ценам. Метрика показывает разницу в стоимости активов, которые трейдеры хотят купить и продать по лучшим ценам.\\nОтрицательное значение свидетельствует о преобладании продавцов\\n**vwap_b, vwap_s**\\nЭто средневзвешенная цена покупки/продажи на всем стакане — сумма произведений цен на соответствующие объемы, делённая на общий объём (b_val / b_vol). Показывает, какова средняя цена активов, которые трейдеры хотят купить, с учетом объема каждого заявленного уровня цены. Обычно используется для измерения «средней» цены, по которой активы куплены или проданы.\\nПример:\\nЕсть 2 заявки на покупку: 100 акций по 10 ₽ и 200 акций по 20 ₽, тогда\\n(100*10 + 200*20) / (100 + 200) = 16.67 ₽\\n**vwap_b_1mio, vwap_s_1mio**\\nЭто средневзвешенная цена покупки/продажи актива на сумму в 1 млн ₽. Показывает, какова будет средняя цена активов при покупке на указанную сумму.\\nПример:\\nЕсть 4 заявки на покупку: 150 акций по 3000 ₽, 100 акций по 3500 ₽, 50 акций по 4000 ₽ и 25 акций по 4500 ₽. Для расчета необходимо определить, какие заявки понадобятся для набора суммы в 1 млн ₽ ( ∑(vol * price) ), а затем рассчитать средневзвешенную цену для этих заявок, как в примере выше с b_pr_vwap / s_pr_vwap.\\nvwap_b_1mio = (150 * 3000 + 100 * 3500 + 50 * 4000) / (150 + 100 + 50) = 333.33 ₽', metadata={'source': 'Методика расчета/orders.txt'})]"
      ]
     },
     "execution_count": 3,
     "metadata": {},
     "output_type": "execute_result"
    }
   ],
   "source": [
    "vectordb.similarity_search(\"Привет\")"
   ]
  },
  {
   "cell_type": "code",
   "execution_count": 2,
   "metadata": {},
   "outputs": [
    {
     "name": "stderr",
     "output_type": "stream",
     "text": [
      "c:\\Users\\Ilia\\projects\\hack_goalgo\\project\\intents\\intent_classifier.py:39: UserWarning: Класс намерения: новости\n",
      "  warnings.warn(f\"Класс намерения: {intent_class}\")\n"
     ]
    }
   ],
   "source": [
    "response = IntentClassifier.get_answer(\"Привет, какие новости по Тинькоффу за вчера?\")"
   ]
  },
  {
   "cell_type": "code",
   "execution_count": 3,
   "metadata": {},
   "outputs": [
    {
     "name": "stdout",
     "output_type": "stream",
     "text": [
      "1. Банк России оштрафовал ВТБ и Тинькофф Банк за нарушение требований законодательства.\n",
      "2. Тинькофф Банк и Альфастрахование выполнили предписания ФАС и изменили условия подписки на рекламу.\n",
      "3. Тинькофф Банк повысил ставки по «СмартВкладу» в юанях.\n",
      "4. Сотрудник Тинькофф помог предпринимателю предотвратить обман.\n",
      "5. \"Тинькофф Инвестиции\" дал прогноз по рублю на первое полугодие 2024 года.\n"
     ]
    }
   ],
   "source": [
    "print(response)"
   ]
  },
  {
   "cell_type": "code",
   "execution_count": 2,
   "metadata": {},
   "outputs": [
    {
     "name": "stderr",
     "output_type": "stream",
     "text": [
      "c:\\Users\\Ilia\\projects\\hack_goalgo\\project\\intents\\intent_classifier.py:39: UserWarning: Класс намерения: goalgo\n",
      "  warnings.warn(f\"Класс намерения: {intent_class}\")\n"
     ]
    },
    {
     "name": "stdout",
     "output_type": "stream",
     "text": [
      "[]\n"
     ]
    }
   ],
   "source": [
    "response = IntentClassifier.get_answer(\"Обратная связь algo pack??\")"
   ]
  },
  {
   "cell_type": "code",
   "execution_count": 3,
   "metadata": {},
   "outputs": [],
   "source": [
    "from intents.database_intent.algo_database import DatabaseIntent"
   ]
  },
  {
   "cell_type": "code",
   "execution_count": 7,
   "metadata": {},
   "outputs": [],
   "source": [
    "vd = DatabaseIntent.vectordb"
   ]
  },
  {
   "cell_type": "code",
   "execution_count": null,
   "metadata": {},
   "outputs": [],
   "source": []
  },
  {
   "cell_type": "code",
   "execution_count": 9,
   "metadata": {},
   "outputs": [],
   "source": [
    "vd.persist()"
   ]
  },
  {
   "cell_type": "code",
   "execution_count": 10,
   "metadata": {},
   "outputs": [
    {
     "data": {
      "text/plain": [
       "[]"
      ]
     },
     "execution_count": 10,
     "metadata": {},
     "output_type": "execute_result"
    }
   ],
   "source": [
    "vd.similarity_search(\"Привет\")"
   ]
  },
  {
   "cell_type": "code",
   "execution_count": 4,
   "metadata": {},
   "outputs": [
    {
     "data": {
      "text/plain": [
       "'Algo Pack – это набор алгоритмов или пакет программного обеспечения для выполнения определенной задачи или решения определенной проблемы. Обратная связь по Algo Pack может включать в себя обзор функциональности, запросы на улучшения, сообщения об ошибках, предложения по доработке и другие комментарии от пользователей или клиентов. Такая обратная связь может быть полезна для разработчиков Algo Pack для улучшения его качества и функциональности.'"
      ]
     },
     "execution_count": 4,
     "metadata": {},
     "output_type": "execute_result"
    }
   ],
   "source": [
    "response"
   ]
  },
  {
   "cell_type": "code",
   "execution_count": null,
   "metadata": {},
   "outputs": [],
   "source": []
  }
 ],
 "metadata": {
  "kernelspec": {
   "display_name": "base",
   "language": "python",
   "name": "python3"
  },
  "language_info": {
   "codemirror_mode": {
    "name": "ipython",
    "version": 3
   },
   "file_extension": ".py",
   "mimetype": "text/x-python",
   "name": "python",
   "nbconvert_exporter": "python",
   "pygments_lexer": "ipython3",
   "version": "3.10.9"
  }
 },
 "nbformat": 4,
 "nbformat_minor": 2
}
